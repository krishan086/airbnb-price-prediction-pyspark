{
  "nbformat": 4,
  "nbformat_minor": 0,
  "metadata": {
    "colab": {
      "provenance": []
    },
    "kernelspec": {
      "name": "python3",
      "display_name": "Python 3"
    },
    "language_info": {
      "name": "python"
    }
  },
  "cells": [
    {
      "cell_type": "code",
      "execution_count": 20,
      "metadata": {
        "id": "7t3kMyZoEN1b"
      },
      "outputs": [],
      "source": [
        "from pyspark.sql import SparkSession\n",
        "from pyspark.ml import Pipeline\n",
        "from pyspark.ml.feature import VectorAssembler, StringIndexer\n",
        "from pyspark.ml.regression import RandomForestRegressor\n",
        "from pyspark.ml.evaluation import RegressionEvaluator\n",
        "from pyspark.ml.feature import OneHotEncoder, StringIndexer\n",
        "from pyspark.ml.regression import LinearRegression\n",
        "from pyspark.ml.regression import DecisionTreeRegressor\n",
        "from pyspark.ml.feature import RFormula\n",
        "import pandas as pd\n",
        "import click"
      ]
    },
    {
      "cell_type": "code",
      "source": [
        "spark = SparkSession.builder.appName(\"App\").getOrCreate()"
      ],
      "metadata": {
        "id": "s1yXi885jaD2"
      },
      "execution_count": 4,
      "outputs": []
    },
    {
      "cell_type": "code",
      "source": [
        "filePath = \"\"\"/content/ML_Data.parquet\"\"\"\n",
        "\n",
        "airbnbDF = spark.read.parquet(filePath)\n",
        "\n",
        "airbnbDF.select(\"neighbourhood_cleansed\", \"room_type\", \"price\", \"bedrooms\", \"bathrooms\", \"number_of_reviews\", \"price\").show()"
      ],
      "metadata": {
        "colab": {
          "base_uri": "https://localhost:8080/"
        },
        "id": "oxJm9rminGTa",
        "outputId": "81f3c417-439f-4542-b5bf-579ba373f638"
      },
      "execution_count": 6,
      "outputs": [
        {
          "output_type": "stream",
          "name": "stdout",
          "text": [
            "+----------------------+---------------+-----+--------+---------+-----------------+-----+\n",
            "|neighbourhood_cleansed|      room_type|price|bedrooms|bathrooms|number_of_reviews|price|\n",
            "+----------------------+---------------+-----+--------+---------+-----------------+-----+\n",
            "|      Western Addition|Entire home/apt|170.0|     1.0|      1.0|            180.0|170.0|\n",
            "|        Bernal Heights|Entire home/apt|235.0|     2.0|      1.0|            111.0|235.0|\n",
            "|        Haight Ashbury|   Private room| 65.0|     1.0|      4.0|             17.0| 65.0|\n",
            "|        Haight Ashbury|   Private room| 65.0|     1.0|      4.0|              8.0| 65.0|\n",
            "|      Western Addition|Entire home/apt|785.0|     2.0|      1.5|             27.0|785.0|\n",
            "|      Western Addition|Entire home/apt|255.0|     2.0|      1.0|             31.0|255.0|\n",
            "|               Mission|   Private room|139.0|     1.0|      1.0|            647.0|139.0|\n",
            "|          Potrero Hill|   Private room|135.0|     1.0|      1.0|            453.0|135.0|\n",
            "|               Mission|Entire home/apt|265.0|     2.0|      1.0|            320.0|265.0|\n",
            "|        Haight Ashbury|Entire home/apt|177.0|     3.0|      1.0|             37.0|177.0|\n",
            "|      Western Addition|Entire home/apt|194.0|     3.0|      2.0|             14.0|194.0|\n",
            "|  Downtown/Civic Ce...|Entire home/apt|139.0|     1.0|      1.5|             19.0|139.0|\n",
            "|        Haight Ashbury|   Private room| 85.0|     1.0|      4.0|              6.0| 85.0|\n",
            "|        Haight Ashbury|   Private room| 85.0|     1.0|      3.0|              5.0| 85.0|\n",
            "|   Castro/Upper Market|   Private room| 79.0|     1.0|      1.0|            390.0| 79.0|\n",
            "|          Inner Sunset|Entire home/apt|136.0|     2.0|      1.0|             16.0|136.0|\n",
            "|               Mission|Entire home/apt|215.0|     1.0|      1.0|            103.0|215.0|\n",
            "|       South of Market|Entire home/apt|450.0|     2.0|      2.0|             14.0|450.0|\n",
            "|            Noe Valley|Entire home/apt|107.0|     0.0|      1.0|             61.0|107.0|\n",
            "|      Western Addition|   Private room|110.0|     1.0|      1.0|            363.0|110.0|\n",
            "+----------------------+---------------+-----+--------+---------+-----------------+-----+\n",
            "only showing top 20 rows\n",
            "\n"
          ]
        }
      ]
    },
    {
      "cell_type": "code",
      "source": [
        "trainDF, testDF = airbnbDF.randomSplit([.8, .2], seed=42)\n",
        "\n",
        "print(f\"\"\"There are {trainDF.count()} rows in the training set, and {testDF.count()} in the test set\"\"\")"
      ],
      "metadata": {
        "colab": {
          "base_uri": "https://localhost:8080/"
        },
        "id": "ZetIdDLvyUTB",
        "outputId": "ab8913e4-acd9-462d-b07d-d2483aa9a70e"
      },
      "execution_count": 7,
      "outputs": [
        {
          "output_type": "stream",
          "name": "stdout",
          "text": [
            "There are 5780 rows in the training set, and 1366 in the test set\n"
          ]
        }
      ]
    },
    {
      "cell_type": "code",
      "source": [
        "vecAssembler = VectorAssembler(inputCols = [\"bedrooms\"], outputCol = \"features\")\n",
        "\n",
        "vecTrainDF = vecAssembler.transform(trainDF)\n",
        "\n",
        "vecTrainDF.select(\"bedrooms\", \"features\", \"price\").show(10)"
      ],
      "metadata": {
        "colab": {
          "base_uri": "https://localhost:8080/"
        },
        "id": "WpeiIx1BzBio",
        "outputId": "5446a974-0da0-49b1-f480-643ecca1b27f"
      },
      "execution_count": 11,
      "outputs": [
        {
          "output_type": "stream",
          "name": "stdout",
          "text": [
            "+--------+--------+-----+\n",
            "|bedrooms|features|price|\n",
            "+--------+--------+-----+\n",
            "|     1.0|   [1.0]|200.0|\n",
            "|     1.0|   [1.0]|130.0|\n",
            "|     1.0|   [1.0]| 95.0|\n",
            "|     1.0|   [1.0]|250.0|\n",
            "|     3.0|   [3.0]|250.0|\n",
            "|     1.0|   [1.0]|115.0|\n",
            "|     1.0|   [1.0]|105.0|\n",
            "|     1.0|   [1.0]| 86.0|\n",
            "|     1.0|   [1.0]|100.0|\n",
            "|     2.0|   [2.0]|220.0|\n",
            "+--------+--------+-----+\n",
            "only showing top 10 rows\n",
            "\n"
          ]
        }
      ]
    },
    {
      "cell_type": "code",
      "source": [
        "lr = LinearRegression(featuresCol=\"features\", labelCol=\"price\")\n",
        "\n",
        "lrModel = lr.fit(vecTrainDF)"
      ],
      "metadata": {
        "id": "cJV9SUVX1_di"
      },
      "execution_count": 12,
      "outputs": []
    },
    {
      "cell_type": "code",
      "source": [
        "m = round(lrModel.coefficients[0], 2)\n",
        "\n",
        "b = round(lrModel.intercept, 2)\n",
        "\n",
        "print(f\"\"\"The formula for the linear regression line is price = {m}*bedrooms + {b}\"\"\")"
      ],
      "metadata": {
        "colab": {
          "base_uri": "https://localhost:8080/"
        },
        "id": "jtJPXE1T3TfK",
        "outputId": "abe20866-29cc-4202-a257-b9ee23df7fde"
      },
      "execution_count": 15,
      "outputs": [
        {
          "output_type": "stream",
          "name": "stdout",
          "text": [
            "The formula for the linear regression line is price = 123.68*bedrooms + 47.51\n"
          ]
        }
      ]
    },
    {
      "cell_type": "code",
      "source": [
        "pipeline = Pipeline(stages=[vecAssembler, lr])\n",
        "\n",
        "pipelineModel = pipeline.fit(trainDF)"
      ],
      "metadata": {
        "id": "tcIDHxvD3r7n"
      },
      "execution_count": 21,
      "outputs": []
    },
    {
      "cell_type": "code",
      "source": [
        "predDF = pipelineModel.transform(testDF)\n",
        "\n",
        "predDF.select(\"bedrooms\", \"features\", \"price\", \"prediction\").show(10)"
      ],
      "metadata": {
        "colab": {
          "base_uri": "https://localhost:8080/"
        },
        "id": "mdo4fcEw4h-1",
        "outputId": "9a0d8ae7-4f5f-48d0-9463-e22d3720d960"
      },
      "execution_count": 22,
      "outputs": [
        {
          "output_type": "stream",
          "name": "stdout",
          "text": [
            "+--------+--------+------+------------------+\n",
            "|bedrooms|features| price|        prediction|\n",
            "+--------+--------+------+------------------+\n",
            "|     1.0|   [1.0]|  85.0|171.18598011578285|\n",
            "|     1.0|   [1.0]|  45.0|171.18598011578285|\n",
            "|     1.0|   [1.0]|  70.0|171.18598011578285|\n",
            "|     1.0|   [1.0]| 128.0|171.18598011578285|\n",
            "|     1.0|   [1.0]| 159.0|171.18598011578285|\n",
            "|     2.0|   [2.0]| 250.0|294.86172649777757|\n",
            "|     1.0|   [1.0]|  99.0|171.18598011578285|\n",
            "|     1.0|   [1.0]|  95.0|171.18598011578285|\n",
            "|     1.0|   [1.0]| 100.0|171.18598011578285|\n",
            "|     1.0|   [1.0]|2010.0|171.18598011578285|\n",
            "+--------+--------+------+------------------+\n",
            "only showing top 10 rows\n",
            "\n"
          ]
        }
      ]
    },
    {
      "cell_type": "code",
      "source": [],
      "metadata": {
        "id": "azlDuQlM5EJj"
      },
      "execution_count": null,
      "outputs": []
    }
  ]
}